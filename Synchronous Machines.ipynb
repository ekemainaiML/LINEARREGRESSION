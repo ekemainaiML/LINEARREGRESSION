{
 "cells": [
  {
   "attachments": {},
   "cell_type": "markdown",
   "id": "db816f24",
   "metadata": {},
   "source": [
    "# Synchronous Machine\n",
    "Synchronous motors (SMs) are AC motors with constant speed.A SM dataset is obtained from a real experimental set. The task is to create the strong models to estimate the excitation current of SM.\n",
    "\n",
    "Source:\n",
    "\n",
    "Ramazan BAYINDIR (bayindir '@' gazi.edu.tr);Hamdi Tolga KAHRAMAN (holgakahraman '@' ktu.edu.tr);\n",
    "\n",
    "\n",
    "Data Set Information:\n",
    "\n",
    "Synchronous machine data were obtained in real time from the experimental operating environment.\n",
    "\n",
    "\n",
    "Attribute Information:\n",
    "\n",
    "Iy (Load Current) \n",
    "PF (Power factor) \n",
    "e (Power factor error) \n",
    "dIf (Changing of excitation current of synchronous machine) \n",
    "If (Excitation current of synchronous machine)\n",
    "\n",
    "\n",
    "Relevant Papers:\n",
    "\n",
    "1) Kahraman, H. T. (2014). Metaheuristic linear modeling technique for estimating the excitation current of a synchronous motor.Â Turkish Journal of Electrical Engineering & Computer Sciences,Â 22(6), 1637-1652. \n",
    "\n",
    "2) Kahraman, H. T., Bayindir, R, & Sagiroglu, S. (2012). A new approach to predict the excitation current and parameter weightings of synchronous machines based on genetic algorithm-based k-NN estimator.Â Energy Conversion and Management,Â 64, 129-138. \n"
   ]
  },
  {
   "cell_type": "code",
   "execution_count": null,
   "id": "8e90ae32",
   "metadata": {},
   "outputs": [],
   "source": [
    "!pip3 install pandas\n",
    "!pip3 install matplotlib"
   ]
  },
  {
   "cell_type": "code",
   "execution_count": null,
   "id": "0d8451a3",
   "metadata": {},
   "outputs": [],
   "source": [
    "# Load libraries\n",
    "import numpy as np # linear algebra\n",
    "import pandas as pd # data processing, CSV file I/O (e.g. pd.read_csv)\n",
    "import matplotlib.pyplot as plt\n",
    "import seaborn as sns\n",
    "import plotly.express as px\n",
    "from sklearn.preprocessing import StandardScaler, MinMaxScaler\n",
    "# Import required libraries\n",
    "import sklearn\n",
    "\n",
    "# Import necessary modules\n",
    "from sklearn.model_selection import train_test_split\n",
    "from sklearn.metrics import mean_squared_error\n",
    "from math import sqrt\n",
    "\n",
    "# Preprocessing\n",
    "from sklearn.impute import SimpleImputer\n",
    "from sklearn.preprocessing import OneHotEncoder, LabelEncoder\n",
    "%matplotlib inline\n",
    "import os\n",
    "\n",
    "import warnings\n",
    "warnings.filterwarnings(\"ignore\", category=UserWarning)\n",
    "warnings.filterwarnings(\"ignore\", category=FutureWarning)\n",
    "\n",
    "pd.options.display.max_columns = None\n",
    "pd.options.display.max_rows = 10"
   ]
  },
  {
   "cell_type": "code",
   "execution_count": null,
   "id": "79aa6303",
   "metadata": {},
   "outputs": [],
   "source": []
  }
 ],
 "metadata": {
  "kernelspec": {
   "display_name": "Python 3 (ipykernel)",
   "language": "python",
   "name": "python3"
  },
  "language_info": {
   "codemirror_mode": {
    "name": "ipython",
    "version": 3
   },
   "file_extension": ".py",
   "mimetype": "text/x-python",
   "name": "python",
   "nbconvert_exporter": "python",
   "pygments_lexer": "ipython3",
   "version": "3.11.3"
  }
 },
 "nbformat": 4,
 "nbformat_minor": 5
}
